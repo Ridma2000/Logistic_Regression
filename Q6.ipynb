{
 "cells": [
  {
   "cell_type": "code",
   "execution_count": 12,
   "id": "83452bc0",
   "metadata": {},
   "outputs": [
    {
     "name": "stdout",
     "output_type": "stream",
     "text": [
      "C = 0.001;\n",
      "  Training cost : 0.6931\n",
      "  Testing cost  : 0.6931\n",
      "The model is underfitting the data\n",
      "\n",
      "C = 0.01;\n",
      "  Training cost : 0.5454\n",
      "  Testing cost  : 0.5407\n",
      "The model is underfitting the data\n",
      "\n",
      "C = 0.1;\n",
      "  Training cost : 0.1037\n",
      "  Testing cost  : 0.1078\n",
      "The model has a good balance between training and testing performance\n",
      "\n",
      "C = 1;\n",
      "  Training cost : 0.0117\n",
      "  Testing cost  : 0.0126\n",
      "The model has a good balance between training and testing performance\n",
      "\n",
      "C = 10;\n",
      "  Training cost : 0.0014\n",
      "  Testing cost  : 0.0014\n",
      "The model is underfitting the data\n",
      "\n",
      "C = 100;\n",
      "  Training cost : 0.0003\n",
      "  Testing cost  : 0.0002\n",
      "The model is underfitting the data\n",
      "\n",
      "C = 1000;\n",
      "  Training cost : 0.0001\n",
      "  Testing cost  : 0.0000\n",
      "The model is underfitting the data\n",
      "\n"
     ]
    }
   ],
   "source": [
    "import numpy as np\n",
    "import pandas as pd\n",
    "from sklearn.linear_model import LogisticRegression\n",
    "from sklearn.datasets import load_iris\n",
    "from sklearn.model_selection import train_test_split\n",
    "from sklearn.metrics import log_loss, accuracy_score\n",
    "\n",
    "iris = load_iris()\n",
    "X, y = iris.data, iris.target\n",
    "\n",
    "y_binary = (y == 0).astype(int)\n",
    "\n",
    "# Split the data into training and testing data sets\n",
    "X_train, X_test, y_train, y_test = train_test_split(X, y_binary, test_size=0.2, random_state=42)\n",
    "\n",
    "# Initialize an array to store cost of training and testing data sets for each c parameter\n",
    "cost_train_list = []\n",
    "cost_test_list = []\n",
    "\n",
    "# Define a range of inverse regularization strengths (C values)\n",
    "C_values = [0.001, 0.01, 0.1, 1, 10, 100, 1000]\n",
    "\n",
    "for C_val in C_values:\n",
    "    \n",
    "    model = LogisticRegression(penalty='l1', solver='liblinear', C=C_val)\n",
    "    model.fit(X_train, y_train)\n",
    "    \n",
    "    # Predict probabilities for the training and testing sets\n",
    "    y_train_prob = model.predict_proba(X_train)\n",
    "    y_test_prob = model.predict_proba(X_test)\n",
    "    \n",
    "    # Calculate cost for training and testing sets\n",
    "    cost_train = log_loss(y_train, y_train_prob)\n",
    "    cost_test = log_loss(y_test, y_test_prob)\n",
    "    \n",
    "    cost_train_list.append(cost_train)\n",
    "    cost_test_list.append(cost_test)\n",
    "\n",
    "for i, C in enumerate(C_values):\n",
    "    print(f\"C = {C};\")\n",
    "    print(f\"  Training cost : {cost_train_list[i]:.4f}\")\n",
    "    print(f\"  Testing cost  : {cost_test_list[i]:.4f}\")\n",
    "    if cost_train_list[i] > cost_test_list[i]:\n",
    "        print(\"The model is underfitting the data\")\n",
    "    elif cost_test_list[i] > cost_train_list[i] and (cost_test_list[i] - cost_train_list[i]) / cost_train_list[i] > 0.1:\n",
    "        print(\"The model is overfitting the data\")\n",
    "    else:\n",
    "        print(\"The model has a good balance between training and testing performance\")\n",
    "    print()\n"
   ]
  },
  {
   "cell_type": "code",
   "execution_count": 13,
   "id": "f40a4b38",
   "metadata": {},
   "outputs": [
    {
     "name": "stdout",
     "output_type": "stream",
     "text": [
      "Confusion Matrix:\n",
      "[[20  0]\n",
      " [ 0 10]]\n"
     ]
    }
   ],
   "source": [
    "from sklearn.metrics import confusion_matrix, classification_report\n",
    "\n",
    "best_C = 1\n",
    "best_model = LogisticRegression(penalty='l1', solver='liblinear', C=best_C)\n",
    "best_model.fit(X_train, y_train)\n",
    "\n",
    "# Confusion Matrix\n",
    "y_test_pred = best_model.predict(X_test)\n",
    "conf_matrix = confusion_matrix(y_test, y_test_pred)\n",
    "\n",
    "print(\"Confusion Matrix:\")\n",
    "print(conf_matrix)\n"
   ]
  },
  {
   "cell_type": "code",
   "execution_count": 14,
   "id": "44332f44",
   "metadata": {},
   "outputs": [
    {
     "name": "stdout",
     "output_type": "stream",
     "text": [
      "\n",
      "Classification Report:\n",
      "              precision    recall  f1-score   support\n",
      "\n",
      "    Negative       1.00      1.00      1.00        20\n",
      "    Positive       1.00      1.00      1.00        10\n",
      "\n",
      "    accuracy                           1.00        30\n",
      "   macro avg       1.00      1.00      1.00        30\n",
      "weighted avg       1.00      1.00      1.00        30\n",
      "\n"
     ]
    }
   ],
   "source": [
    "# Classification Report\n",
    "target_names = ['Negative','Positive']\n",
    "class_report = classification_report(y_test, y_test_pred, target_names=target_names)\n",
    "print(\"\\nClassification Report:\")\n",
    "print(class_report)"
   ]
  },
  {
   "cell_type": "code",
   "execution_count": null,
   "id": "8baf4bee",
   "metadata": {},
   "outputs": [],
   "source": []
  }
 ],
 "metadata": {
  "kernelspec": {
   "display_name": "Python 3 (ipykernel)",
   "language": "python",
   "name": "python3"
  },
  "language_info": {
   "codemirror_mode": {
    "name": "ipython",
    "version": 3
   },
   "file_extension": ".py",
   "mimetype": "text/x-python",
   "name": "python",
   "nbconvert_exporter": "python",
   "pygments_lexer": "ipython3",
   "version": "3.11.7"
  }
 },
 "nbformat": 4,
 "nbformat_minor": 5
}
